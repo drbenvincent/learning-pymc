{
 "metadata": {
  "name": "",
  "signature": "sha256:199e79dd7ab94e721a5efa1c93c1c36dcdaeb59b528955286e0cb1418b0b5936"
 },
 "nbformat": 3,
 "nbformat_minor": 0,
 "worksheets": [
  {
   "cells": [
    {
     "cell_type": "heading",
     "level": 1,
     "metadata": {},
     "source": [
      "Testing PyMC by implementing Baye's equation"
     ]
    },
    {
     "cell_type": "markdown",
     "metadata": {},
     "source": [
      "Very simple first test of how we can use PyMC to impliment Baye's equation. We define a simple generative model $P(param,data)$ and specify this model for a simple example. We then want to use this model for:\n",
      "1. **data generation**, drawing samples from $P(data|param)$, and \n",
      "2. **parameter recovery**, drawing samples from $P(param|data)$.\n",
      "\n",
      "<img src=\"images/simple_model.png\">"
     ]
    },
    {
     "cell_type": "code",
     "collapsed": false,
     "input": [
      "%matplotlib inline\n",
      "import matplotlib.pyplot as plt\n",
      "import numpy as np\n",
      "import pymc"
     ],
     "language": "python",
     "metadata": {},
     "outputs": [],
     "prompt_number": 1
    },
    {
     "cell_type": "heading",
     "level": 2,
     "metadata": {},
     "source": [
      "Defining the probabilistic model"
     ]
    },
    {
     "cell_type": "markdown",
     "metadata": {},
     "source": [
      "In our simple model, the data will be normally distributed values. We assme that the variance of this is fixed, but we want to estimate the mean of the distribution, this is our parameter. \n",
      "\n",
      "Our joint distribution is $P(data,parameter)$. Using Baye's equation we can write:\n",
      "\n",
      "$P(data|param) \\propto P(param|data) P(param)$.\n",
      "\n",
      "So we need a likelihood term, and a prior term.\n",
      "\n",
      "$P(param|data) \\sim Normal(param,1)$\n",
      "\n",
      "$P(parameter) \\sim Uniform(-10,10)$"
     ]
    },
    {
     "cell_type": "heading",
     "level": 2,
     "metadata": {},
     "source": [
      "Step 1: Generating data by drawing samples from P(data|parameter)"
     ]
    },
    {
     "cell_type": "markdown",
     "metadata": {},
     "source": [
      "First, define our known parameters"
     ]
    },
    {
     "cell_type": "code",
     "collapsed": false,
     "input": [
      "true_param = 0.0\n",
      "sigma = 1;\n",
      "tau = 1 / sigma**2"
     ],
     "language": "python",
     "metadata": {},
     "outputs": [],
     "prompt_number": 2
    },
    {
     "cell_type": "markdown",
     "metadata": {},
     "source": [
      "Build the a set of PyMC objects which form the model"
     ]
    },
    {
     "cell_type": "code",
     "collapsed": false,
     "input": [
      "def generate():\n",
      "    #prior\n",
      "    mu = pymc.Uniform(\"mu\", lower=-10, upper=10, value=true_param, observed=True)\n",
      "    # likelihood function\n",
      "    data = pymc.Normal(\"m\", mu=mu, tau=tau)\n",
      "    return locals()"
     ],
     "language": "python",
     "metadata": {},
     "outputs": [],
     "prompt_number": 3
    },
    {
     "cell_type": "markdown",
     "metadata": {},
     "source": [
      "Now construct a PyMC MCMC object"
     ]
    },
    {
     "cell_type": "code",
     "collapsed": false,
     "input": [
      "pymc_generator = pymc.MCMC(generate())"
     ],
     "language": "python",
     "metadata": {},
     "outputs": [],
     "prompt_number": 4
    },
    {
     "cell_type": "markdown",
     "metadata": {},
     "source": [
      "We can use sample by calling this MCMC object's sample method. Here we only want 100 generated data points, and we discard the first 500."
     ]
    },
    {
     "cell_type": "code",
     "collapsed": false,
     "input": [
      "pymc_generator.sample(iter=500+100, burn=500)"
     ],
     "language": "python",
     "metadata": {},
     "outputs": [
      {
       "output_type": "stream",
       "stream": "stdout",
       "text": [
        "\r",
        " [-----------------100%-----------------] 600 of 600 complete in 0.0 sec"
       ]
      }
     ],
     "prompt_number": 5
    },
    {
     "cell_type": "markdown",
     "metadata": {},
     "source": [
      "Extract the generated data from the MCMC object. Then use plot the samples using a PyMC function."
     ]
    },
    {
     "cell_type": "code",
     "collapsed": false,
     "input": [
      "generated_data = pymc_generator.data\n",
      "pymc.Matplot.plot( generated_data )"
     ],
     "language": "python",
     "metadata": {},
     "outputs": [
      {
       "output_type": "stream",
       "stream": "stdout",
       "text": [
        "Plotting m\n"
       ]
      },
      {
       "metadata": {},
       "output_type": "display_data",
       "png": "[encoded data removed]",
       "text": [
        "<matplotlib.figure.Figure at 0x1030a0850>"
       ]
      }
     ],
     "prompt_number": 6
    },
    {
     "cell_type": "heading",
     "level": 2,
     "metadata": {},
     "source": [
      "Step 2: Parameter recovery, sampling from P(param|data)"
     ]
    },
    {
     "cell_type": "markdown",
     "metadata": {},
     "source": [
      "Now we have many data samples. But if this is all we had, we can use Baye's equation to infer what the probably parameter values were.\n",
      "\n",
      "In JAGS, you can simply define ONE probability model, and you can conduct step 1 or step 2 simply by deciding to provide data or the parameter value. It SEEMS that under PyMC you cannot do this. Notice that the `generator` function above has the fact that the parameter was known as an explicit part of the model. So if we want to proceed with step 2, **as far as I understand** we have to describe a new model."
     ]
    },
    {
     "cell_type": "code",
     "collapsed": false,
     "input": [
      "def inference():\n",
      "    #prior\n",
      "    mu = pymc.Uniform(\"mu\", lower=-10, upper=10)\n",
      "    # likelihood function\n",
      "    data = pymc.Normal(\"m\", mu=mu, tau=tau, value=generated_data, observed=True)\n",
      "    return locals()\n",
      "\n",
      "# generate MCMC object\n",
      "pymc_inference = pymc.MCMC(inference())\n",
      "\n",
      "# do the inference\n",
      "pymc_inference.sample(iter=500+100000, burn=500)"
     ],
     "language": "python",
     "metadata": {},
     "outputs": [
      {
       "output_type": "stream",
       "stream": "stdout",
       "text": [
        "\r",
        " [-                 5%                  ] 5206 of 100500 complete in 0.5 sec"
       ]
      },
      {
       "output_type": "stream",
       "stream": "stdout",
       "text": [
        "\r",
        " [----             10%                  ] 11019 of 100500 complete in 1.0 sec"
       ]
      },
      {
       "output_type": "stream",
       "stream": "stdout",
       "text": [
        "\r",
        " [------           17%                  ] 17335 of 100500 complete in 1.5 sec"
       ]
      },
      {
       "output_type": "stream",
       "stream": "stdout",
       "text": [
        "\r",
        " [--------         23%                  ] 23327 of 100500 complete in 2.0 sec"
       ]
      },
      {
       "output_type": "stream",
       "stream": "stdout",
       "text": [
        "\r",
        " [-----------      29%                  ] 29556 of 100500 complete in 2.5 sec"
       ]
      },
      {
       "output_type": "stream",
       "stream": "stdout",
       "text": [
        "\r",
        " [-------------    35%                  ] 35711 of 100500 complete in 3.0 sec"
       ]
      },
      {
       "output_type": "stream",
       "stream": "stdout",
       "text": [
        "\r",
        " [---------------  41%                  ] 41927 of 100500 complete in 3.5 sec"
       ]
      },
      {
       "output_type": "stream",
       "stream": "stdout",
       "text": [
        "\r",
        " [-----------------47%                  ] 48057 of 100500 complete in 4.0 sec"
       ]
      },
      {
       "output_type": "stream",
       "stream": "stdout",
       "text": [
        "\r",
        " [-----------------53%                  ] 54227 of 100500 complete in 4.5 sec"
       ]
      },
      {
       "output_type": "stream",
       "stream": "stdout",
       "text": [
        "\r",
        " [-----------------60%--                ] 60392 of 100500 complete in 5.0 sec"
       ]
      },
      {
       "output_type": "stream",
       "stream": "stdout",
       "text": [
        "\r",
        " [-----------------66%-----             ] 66452 of 100500 complete in 5.5 sec"
       ]
      },
      {
       "output_type": "stream",
       "stream": "stdout",
       "text": [
        "\r",
        " [-----------------70%------            ] 71255 of 100500 complete in 6.0 sec"
       ]
      },
      {
       "output_type": "stream",
       "stream": "stdout",
       "text": [
        "\r",
        " [-----------------76%--------          ] 76581 of 100500 complete in 6.5 sec"
       ]
      },
      {
       "output_type": "stream",
       "stream": "stdout",
       "text": [
        "\r",
        " [-----------------82%-----------       ] 82609 of 100500 complete in 7.0 sec"
       ]
      },
      {
       "output_type": "stream",
       "stream": "stdout",
       "text": [
        "\r",
        " [-----------------88%-------------     ] 88493 of 100500 complete in 7.5 sec"
       ]
      },
      {
       "output_type": "stream",
       "stream": "stdout",
       "text": [
        "\r",
        " [-----------------94%---------------   ] 94577 of 100500 complete in 8.0 sec"
       ]
      },
      {
       "output_type": "stream",
       "stream": "stdout",
       "text": [
        "\r",
        " [-----------------100%-----------------] 100500 of 100500 complete in 8.5 sec"
       ]
      }
     ],
     "prompt_number": 7
    },
    {
     "cell_type": "markdown",
     "metadata": {},
     "source": [
      "Extract the samples of `parameter` which represent samples of the posterior $P(parameter|data)$ and plot. We can see that the estimate is pretty good, in that the 95% credibility intervals overlap with the true parameter value that we defined above, $\\mu=0$"
     ]
    },
    {
     "cell_type": "code",
     "collapsed": false,
     "input": [
      "inferred_parameter = pymc_inference.mu\n",
      "pymc.Matplot.plot( inferred_parameter )"
     ],
     "language": "python",
     "metadata": {},
     "outputs": [
      {
       "output_type": "stream",
       "stream": "stdout",
       "text": [
        "Plotting mu\n"
       ]
      },
      {
       "metadata": {},
       "output_type": "display_data",
       "png": "[encoded data removed]",
       "text": [
        "<matplotlib.figure.Figure at 0x10ed475d0>"
       ]
      }
     ],
     "prompt_number": 8
    },
    {
     "cell_type": "code",
     "collapsed": false,
     "input": [],
     "language": "python",
     "metadata": {},
     "outputs": [],
     "prompt_number": 8
    },
    {
     "cell_type": "code",
     "collapsed": false,
     "input": [],
     "language": "python",
     "metadata": {},
     "outputs": [],
     "prompt_number": 8
    },
    {
     "cell_type": "heading",
     "level": 2,
     "metadata": {},
     "source": [
      "Notes"
     ]
    },
    {
     "cell_type": "markdown",
     "metadata": {},
     "source": [
      "In JAGS, you could define this model ONCE for both generating data (by providing `mu` as an observed data point, and for parameter estimation by only providing the `data` as observed.\n",
      "\n",
      "```\n",
      "model {\n",
      "    # priors\n",
      "    mu~dunif(0,100)\n",
      "    # likelihood\n",
      "    for (t in 1:n_data){\n",
      "        data[t]~dnorm(mu,tau)\n",
      "    }\n",
      "}\n",
      "```\n",
      "\n",
      "Notice also the explicit loop over data points."
     ]
    },
    {
     "cell_type": "markdown",
     "metadata": {},
     "source": [
      "Q1. Should I be specifying `size` in the `inference()` model"
     ]
    }
   ],
   "metadata": {}
  }
 ]
}